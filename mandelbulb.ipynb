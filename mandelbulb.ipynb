{
 "cells": [
  {
   "cell_type": "markdown",
   "metadata": {},
   "source": [
    "# Mandelbulb\n",
    "https://en.wikipedia.org/wiki/Mandelbulb\n",
    "\n",
    "The Mandelbulb is a three-dimensional fractal, constructed for the first time in 1997 by Jules Ruis and in 2009 further developed by Daniel White and Paul Nylander using spherical coordinates."
   ]
  },
  {
   "cell_type": "markdown",
   "metadata": {},
   "source": [
    "given a vector $\\vec{v} = [x, y, z] \\in \\mathbb{R}^3 $, the n-th power of $\\vec{v}$ given by the formula:\n",
    "$$\\textbf{v}^n := r^n[\\sin(n\\theta )\\cos (n\\phi), \\sin (n\\theta)\\sin (n\\phi), \\cos (n\\theta)]$$\n",
    "\n",
    "Where\n",
    "$$\\textbf{v}^r = \\sqrt{x^2 + y^2 + z^2}$$\n",
    "$$\\phi = \\arctan{\\frac{y}{x} = \\mathrm{arg}(x + yi)}$$\n",
    "$$ \\theta = \\arctan{\\frac{\\sqrt{x^2+y^2}}{z}} = \\arccos{\\frac{z}{r}}$$\n",
    "![coordinates](images/Spherical_polar_coordinates.png)\n",
    "\n",
    "The mandelbulb is defined as the set of those vectors $\\textbf{c}$ in $\\mathbb{R}^3$ for which the orbit of $[0, 0, 0]$ under the iteration $\\textbf{v} \\mapsto \\textbf{v}^2 + \\textbf{c}$ is bounded.\n"
   ]
  },
  {
   "cell_type": "code",
   "execution_count": 42,
   "metadata": {},
   "outputs": [],
   "source": [
    "import numpy as np\n",
    "import open3d as o3d"
   ]
  },
  {
   "cell_type": "code",
   "execution_count": 43,
   "metadata": {},
   "outputs": [],
   "source": [
    "def r(v): #todo:make this element-wise\n",
    "    return np.linalg.norm(v, axis=-1)\n",
    "\n",
    "def phi(v):\n",
    "    return np.arctan(v[1], v[0])\n",
    "\n",
    "def theta(v):\n",
    "    return np.arctan(np.sqrt(v[0]**2 + v[1]**2), v)\n"
   ]
  },
  {
   "cell_type": "code",
   "execution_count": 44,
   "metadata": {},
   "outputs": [],
   "source": [
    "import numpy as np\n",
    "import open3d as o3d"
   ]
  },
  {
   "cell_type": "code",
   "execution_count": 45,
   "metadata": {},
   "outputs": [],
   "source": [
    "x = np.linspace(-5, 5, 100)\n",
    "y = np.linspace(-5, 5, 100)\n",
    "z = np.linspace(-5, 5, 100)\n",
    "x, y, z = np.meshgrid(x, y, z)\n",
    "xyz = np.zeros((x.size, 3))\n",
    "xyz[:, 0] = x.ravel()\n",
    "xyz[:, 1] = y.ravel()\n",
    "xyz[:, 2] = z.ravel()\n",
    "\n",
    "\n",
    "pcd = o3d.geometry.PointCloud()\n",
    "pcd.points = o3d.utility.Vector3dVector(xyz)"
   ]
  },
  {
   "cell_type": "code",
   "execution_count": 48,
   "metadata": {},
   "outputs": [
    {
     "name": "stdout",
     "output_type": "stream",
     "text": [
      "(1000000,)\n",
      "(3,)\n",
      "(1000000, 3)\n"
     ]
    }
   ],
   "source": [
    "R = r(xyz)\n",
    "Phi = phi(xyz)\n",
    "Theta = theta(xyz)\n",
    "print(R.shape)\n",
    "print(Phi.shape)\n",
    "print(Theta.shape)"
   ]
  }
 ],
 "metadata": {
  "kernelspec": {
   "display_name": "ml_vision",
   "language": "python",
   "name": "python3"
  },
  "language_info": {
   "codemirror_mode": {
    "name": "ipython",
    "version": 3
   },
   "file_extension": ".py",
   "mimetype": "text/x-python",
   "name": "python",
   "nbconvert_exporter": "python",
   "pygments_lexer": "ipython3",
   "version": "3.8.1"
  },
  "orig_nbformat": 4
 },
 "nbformat": 4,
 "nbformat_minor": 2
}

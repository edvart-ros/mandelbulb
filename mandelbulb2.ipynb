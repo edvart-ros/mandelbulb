{
 "cells": [
  {
   "cell_type": "code",
   "execution_count": 1,
   "metadata": {},
   "outputs": [
    {
     "name": "stdout",
     "output_type": "stream",
     "text": [
      "Jupyter environment detected. Enabling Open3D WebVisualizer.\n",
      "[Open3D INFO] WebRTC GUI backend enabled.\n",
      "[Open3D INFO] WebRTCWindowSystem: HTTP handshake server disabled.\n"
     ]
    }
   ],
   "source": [
    "import time\n",
    "import numpy as np\n",
    "import open3d as o3d\n",
    "\n",
    "def get_r(v):\n",
    "    return np.linalg.norm(v, axis=-1)\n",
    "\n",
    "def get_phi(v):\n",
    "    return np.arctan(v[:,1], v[:,0])\n",
    "\n",
    "def get_theta(v):\n",
    "    return np.arccos(np.divide(v[:,2], get_r(v)))\n",
    "\n",
    "\n",
    "n = 3\n",
    "x = np.linspace(-1, 1, 100)\n",
    "y = np.linspace(-1, 1, 100)\n",
    "z = np.linspace(-1, 1, 100)\n",
    "x, y, z = np.meshgrid(x, y, z)\n",
    "v = np.zeros((x.size, 3))\n",
    "v[:, 0] = x.ravel()\n",
    "v[:, 1] = y.ravel()\n",
    "v[:, 2] = z.ravel()\n",
    "\n",
    "pcd = o3d.geometry.PointCloud()\n",
    "pcd.points = o3d.utility.Vector3dVector(v)"
   ]
  },
  {
   "cell_type": "code",
   "execution_count": null,
   "metadata": {},
   "outputs": [],
   "source": [
    "r = get_r(v)\n",
    "phi = get_phi(v)\n",
    "theta = get_theta(v)\n",
    "\n",
    "w1 = np.multiply(np.sin(n*theta), np.cos(n*phi))\n",
    "w2 = np.multiply(np.sin(n*theta),np.sin(n*phi))\n",
    "w3 = np.cos(n*theta)\n",
    "w = np.array([w1, w2, w3]).transpose()\n",
    "\n",
    "diff = w-v\n",
    "\n",
    "frames = []\n",
    "frames.append(v)\n",
    "\n",
    "for i in np.arange(0, 1, 0.002):\n",
    "    v = (v + diff*i)/np.max(np.linalg.norm(v, axis=-1))\n",
    "    frames.append(v)"
   ]
  },
  {
   "cell_type": "code",
   "execution_count": 3,
   "metadata": {},
   "outputs": [
    {
     "ename": "KeyboardInterrupt",
     "evalue": "",
     "output_type": "error",
     "traceback": [
      "\u001b[1;31m---------------------------------------------------------------------------\u001b[0m",
      "\u001b[1;31mKeyboardInterrupt\u001b[0m                         Traceback (most recent call last)",
      "Cell \u001b[1;32mIn[3], line 9\u001b[0m\n\u001b[0;32m      7\u001b[0m vis\u001b[39m.\u001b[39mupdate_geometry(pcd)\n\u001b[0;32m      8\u001b[0m vis\u001b[39m.\u001b[39mpoll_events()\n\u001b[1;32m----> 9\u001b[0m vis\u001b[39m.\u001b[39mupdate_renderer()\n\u001b[0;32m     10\u001b[0m time\u001b[39m.\u001b[39msleep(\u001b[39m0.001\u001b[39m)\n",
      "\u001b[1;31mKeyboardInterrupt\u001b[0m: "
     ]
    }
   ],
   "source": [
    "vis = o3d.visualization.Visualizer()\n",
    "vis.create_window()\n",
    "vis.add_geometry(pcd)\n",
    "\n",
    "for frame in frames:\n",
    "    pcd.points = o3d.utility.Vector3dVector(frame)\n",
    "    vis.update_geometry(pcd)\n",
    "    vis.poll_events()\n",
    "    vis.update_renderer()\n",
    "    time.sleep(0.001)"
   ]
  }
 ],
 "metadata": {
  "kernelspec": {
   "display_name": "ml_vision",
   "language": "python",
   "name": "python3"
  },
  "language_info": {
   "codemirror_mode": {
    "name": "ipython",
    "version": 3
   },
   "file_extension": ".py",
   "mimetype": "text/x-python",
   "name": "python",
   "nbconvert_exporter": "python",
   "pygments_lexer": "ipython3",
   "version": "3.8.1"
  },
  "orig_nbformat": 4
 },
 "nbformat": 4,
 "nbformat_minor": 2
}
